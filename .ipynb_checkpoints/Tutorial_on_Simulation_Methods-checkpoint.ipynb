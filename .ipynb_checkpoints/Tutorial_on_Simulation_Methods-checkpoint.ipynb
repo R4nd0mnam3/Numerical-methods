{
 "cells": [
  {
   "cell_type": "markdown",
   "id": "3459cc7b",
   "metadata": {},
   "source": [
    "## Tutorial on Simulation Methods"
   ]
  },
  {
   "cell_type": "markdown",
   "id": "4b139f37",
   "metadata": {},
   "source": [
    "## Exercice 1 "
   ]
  },
  {
   "cell_type": "markdown",
   "id": "19ab28da",
   "metadata": {},
   "source": [
    "**Question 2**"
   ]
  },
  {
   "cell_type": "code",
   "execution_count": 2,
   "id": "9129735d",
   "metadata": {},
   "outputs": [],
   "source": [
    "import numpy as np \n",
    "import math as ma \n",
    "import scipy.stats as si \n",
    "import time"
   ]
  },
  {
   "cell_type": "code",
   "execution_count": 7,
   "id": "c40f5483",
   "metadata": {},
   "outputs": [],
   "source": [
    "class BlackScholes:\n",
    "    def __init__(self,S_0,K,r,T,sigma):\n",
    "        self.S_0 = S_0\n",
    "        self.r = r\n",
    "        self.T = T\n",
    "        self.sigma = sigma\n",
    "        self.K = K\n",
    "        \n",
    "    def d1(self):\n",
    "        return(1/(self.sigma* self.T**0.5)*(np.log(self.S_0/self.K)+(r+0.5*self.sigma**2)*T))\n",
    "    \n",
    "    def d2(self):\n",
    "        return(self.d1 - self.sigma*self.T**0.5)\n",
    "    \n",
    "    def call(self):\n",
    "        return(self.S_0*si.cdf(self.d1)-K*ma.exp(-self.r*self.T)*si.cdf(self.d2))\n",
    "               \n",
    "    def put(self):\n",
    "        return(-self.S_0*si.cdf(-self.d1)+K*ma.exp(-self.r*self.T)*si.cdf(-self.d2))"
   ]
  },
  {
   "cell_type": "markdown",
   "id": "9bc82e72",
   "metadata": {},
   "source": [
    "**Question 3**"
   ]
  },
  {
   "cell_type": "code",
   "execution_count": 9,
   "id": "8033e6c1",
   "metadata": {},
   "outputs": [],
   "source": [
    "class MontCarlo:\n",
    "    def __init__(self,NSimulations,S_0,K,r,T,sigma):\n",
    "        self.NSimulations = NSimulations\n",
    "        self.S_0 = S_0\n",
    "        self.r = r\n",
    "        self.T = T\n",
    "        self.sigma = sigma\n",
    "        self.K = K\n",
    "    \n",
    "    def spot(self):\n",
    "        return(self.S_0*ma.exp((self.r-sigma**2/2)*self.T+self.sigma*sqrt(self.T)*si.rvs))\n",
    "    \n",
    "    def result(self):\n",
    "        simulations = []\n",
    "        for k in range(NSimulations):\n",
    "            spot = self.spot\n",
    "            simulations.append(max(spot-self.K,0))\n",
    "        return(np.mean(simulations))\n",
    "        \n",
    "            \n",
    "            "
   ]
  },
  {
   "cell_type": "markdown",
   "id": "2b645556",
   "metadata": {},
   "source": [
    "**Question 4**"
   ]
  },
  {
   "cell_type": "code",
   "execution_count": null,
   "id": "542bd251",
   "metadata": {},
   "outputs": [],
   "source": []
  }
 ],
 "metadata": {
  "kernelspec": {
   "display_name": "Python 3 (ipykernel)",
   "language": "python",
   "name": "python3"
  },
  "language_info": {
   "codemirror_mode": {
    "name": "ipython",
    "version": 3
   },
   "file_extension": ".py",
   "mimetype": "text/x-python",
   "name": "python",
   "nbconvert_exporter": "python",
   "pygments_lexer": "ipython3",
   "version": "3.11.5"
  }
 },
 "nbformat": 4,
 "nbformat_minor": 5
}
